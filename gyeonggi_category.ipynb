{
 "cells": [
  {
   "cell_type": "code",
   "execution_count": 2,
   "id": "8846b70e-5f99-4dba-be87-5746aa08dce8",
   "metadata": {},
   "outputs": [],
   "source": [
    "import numpy as np\n",
    "import pandas as pd\n",
    "import seaborn as sns\n",
    "import matplotlib\n",
    "import matplotlib.pyplot as plt\n",
    "%matplotlib inline\n",
    "import warnings\n",
    "warnings.filterwarnings('ignore')\n",
    "\n",
    "# plot title 한글 패치\n",
    "matplotlib.rcParams['font.family'] ='Malgun Gothic'\n",
    "matplotlib.rcParams['axes.unicode_minus'] =False"
   ]
  },
  {
   "cell_type": "code",
   "execution_count": 3,
   "id": "99095e7d-678b-4598-9865-efc504eedd6e",
   "metadata": {},
   "outputs": [],
   "source": [
    "df_category = pd.read_csv('./업종별 월별 결제 금액 소비패턴 현황.csv', parse_dates=[\"년월\"])"
   ]
  },
  {
   "cell_type": "code",
   "execution_count": 4,
   "id": "6d64c6dc-c06b-48ab-ae9e-7d9e437e4b3a",
   "metadata": {},
   "outputs": [
    {
     "data": {
      "text/plain": [
       "(113498, 6)"
      ]
     },
     "execution_count": 4,
     "metadata": {},
     "output_type": "execute_result"
    }
   ],
   "source": [
    "df_category.shape"
   ]
  },
  {
   "cell_type": "code",
   "execution_count": 5,
   "id": "14dedb22-389e-41ba-8541-0f500154e227",
   "metadata": {},
   "outputs": [
    {
     "data": {
      "text/html": [
       "<div>\n",
       "<style scoped>\n",
       "    .dataframe tbody tr th:only-of-type {\n",
       "        vertical-align: middle;\n",
       "    }\n",
       "\n",
       "    .dataframe tbody tr th {\n",
       "        vertical-align: top;\n",
       "    }\n",
       "\n",
       "    .dataframe thead th {\n",
       "        text-align: right;\n",
       "    }\n",
       "</style>\n",
       "<table border=\"1\" class=\"dataframe\">\n",
       "  <thead>\n",
       "    <tr style=\"text-align: right;\">\n",
       "      <th></th>\n",
       "      <th>년월</th>\n",
       "      <th>시도명</th>\n",
       "      <th>시군구명</th>\n",
       "      <th>동명</th>\n",
       "      <th>가맹점업종명</th>\n",
       "      <th>총결제금액</th>\n",
       "    </tr>\n",
       "  </thead>\n",
       "  <tbody>\n",
       "    <tr>\n",
       "      <th>0</th>\n",
       "      <td>2019-03-01</td>\n",
       "      <td>경기도</td>\n",
       "      <td>가평군</td>\n",
       "      <td>가평읍</td>\n",
       "      <td>가구</td>\n",
       "      <td>0</td>\n",
       "    </tr>\n",
       "    <tr>\n",
       "      <th>1</th>\n",
       "      <td>2019-03-01</td>\n",
       "      <td>경기도</td>\n",
       "      <td>가평군</td>\n",
       "      <td>가평읍</td>\n",
       "      <td>건강식품</td>\n",
       "      <td>0</td>\n",
       "    </tr>\n",
       "    <tr>\n",
       "      <th>2</th>\n",
       "      <td>2019-03-01</td>\n",
       "      <td>경기도</td>\n",
       "      <td>가평군</td>\n",
       "      <td>가평읍</td>\n",
       "      <td>건축자재</td>\n",
       "      <td>0</td>\n",
       "    </tr>\n",
       "    <tr>\n",
       "      <th>3</th>\n",
       "      <td>2019-03-01</td>\n",
       "      <td>경기도</td>\n",
       "      <td>가평군</td>\n",
       "      <td>가평읍</td>\n",
       "      <td>광학제품</td>\n",
       "      <td>0</td>\n",
       "    </tr>\n",
       "    <tr>\n",
       "      <th>4</th>\n",
       "      <td>2019-03-01</td>\n",
       "      <td>경기도</td>\n",
       "      <td>가평군</td>\n",
       "      <td>가평읍</td>\n",
       "      <td>기타</td>\n",
       "      <td>0</td>\n",
       "    </tr>\n",
       "  </tbody>\n",
       "</table>\n",
       "</div>"
      ],
      "text/plain": [
       "          년월  시도명 시군구명   동명 가맹점업종명  총결제금액\n",
       "0 2019-03-01  경기도  가평군  가평읍     가구      0\n",
       "1 2019-03-01  경기도  가평군  가평읍   건강식품      0\n",
       "2 2019-03-01  경기도  가평군  가평읍   건축자재      0\n",
       "3 2019-03-01  경기도  가평군  가평읍   광학제품      0\n",
       "4 2019-03-01  경기도  가평군  가평읍     기타      0"
      ]
     },
     "execution_count": 5,
     "metadata": {},
     "output_type": "execute_result"
    }
   ],
   "source": [
    "df_category.head()"
   ]
  },
  {
   "cell_type": "code",
   "execution_count": 6,
   "id": "378a444b-abce-4f17-ae7e-8ee4c47a72f1",
   "metadata": {},
   "outputs": [
    {
     "name": "stdout",
     "output_type": "stream",
     "text": [
      "<class 'pandas.core.frame.DataFrame'>\n",
      "RangeIndex: 113498 entries, 0 to 113497\n",
      "Data columns (total 6 columns):\n",
      " #   Column  Non-Null Count   Dtype         \n",
      "---  ------  --------------   -----         \n",
      " 0   년월      113498 non-null  datetime64[ns]\n",
      " 1   시도명     113498 non-null  object        \n",
      " 2   시군구명    113498 non-null  object        \n",
      " 3   동명      113498 non-null  object        \n",
      " 4   가맹점업종명  113498 non-null  object        \n",
      " 5   총결제금액   113498 non-null  int64         \n",
      "dtypes: datetime64[ns](1), int64(1), object(4)\n",
      "memory usage: 5.2+ MB\n"
     ]
    }
   ],
   "source": [
    "df_category.info()"
   ]
  },
  {
   "cell_type": "code",
   "execution_count": 7,
   "id": "015d3337-25c2-4ec1-a45f-2329de34bcdb",
   "metadata": {},
   "outputs": [
    {
     "data": {
      "text/html": [
       "<div>\n",
       "<style scoped>\n",
       "    .dataframe tbody tr th:only-of-type {\n",
       "        vertical-align: middle;\n",
       "    }\n",
       "\n",
       "    .dataframe tbody tr th {\n",
       "        vertical-align: top;\n",
       "    }\n",
       "\n",
       "    .dataframe thead th {\n",
       "        text-align: right;\n",
       "    }\n",
       "</style>\n",
       "<table border=\"1\" class=\"dataframe\">\n",
       "  <thead>\n",
       "    <tr style=\"text-align: right;\">\n",
       "      <th></th>\n",
       "      <th>총결제금액</th>\n",
       "    </tr>\n",
       "  </thead>\n",
       "  <tbody>\n",
       "    <tr>\n",
       "      <th>count</th>\n",
       "      <td>113498.00</td>\n",
       "    </tr>\n",
       "    <tr>\n",
       "      <th>mean</th>\n",
       "      <td>587396.26</td>\n",
       "    </tr>\n",
       "    <tr>\n",
       "      <th>std</th>\n",
       "      <td>5001269.64</td>\n",
       "    </tr>\n",
       "    <tr>\n",
       "      <th>min</th>\n",
       "      <td>0.00</td>\n",
       "    </tr>\n",
       "    <tr>\n",
       "      <th>25%</th>\n",
       "      <td>0.00</td>\n",
       "    </tr>\n",
       "    <tr>\n",
       "      <th>50%</th>\n",
       "      <td>0.00</td>\n",
       "    </tr>\n",
       "    <tr>\n",
       "      <th>75%</th>\n",
       "      <td>4500.00</td>\n",
       "    </tr>\n",
       "    <tr>\n",
       "      <th>max</th>\n",
       "      <td>324965340.00</td>\n",
       "    </tr>\n",
       "  </tbody>\n",
       "</table>\n",
       "</div>"
      ],
      "text/plain": [
       "             총결제금액\n",
       "count    113498.00\n",
       "mean     587396.26\n",
       "std     5001269.64\n",
       "min           0.00\n",
       "25%           0.00\n",
       "50%           0.00\n",
       "75%        4500.00\n",
       "max   324965340.00"
      ]
     },
     "execution_count": 7,
     "metadata": {},
     "output_type": "execute_result"
    }
   ],
   "source": [
    "pd.set_option('float_format', '{:.2f}'.format)\n",
    "df_category.describe()"
   ]
  },
  {
   "cell_type": "code",
   "execution_count": 9,
   "id": "28891d02-9cd1-4e90-9708-acf92c40114f",
   "metadata": {},
   "outputs": [
    {
     "data": {
      "text/plain": [
       "년월        0\n",
       "시도명       0\n",
       "시군구명      0\n",
       "동명        0\n",
       "가맹점업종명    0\n",
       "총결제금액     0\n",
       "dtype: int64"
      ]
     },
     "execution_count": 9,
     "metadata": {},
     "output_type": "execute_result"
    }
   ],
   "source": [
    "# 결측치 확인\n",
    "df_category.isnull().sum()"
   ]
  },
  {
   "cell_type": "code",
   "execution_count": 10,
   "id": "1f0e1b5c-ddc2-4fc3-83dc-8b5500f4e57b",
   "metadata": {},
   "outputs": [
    {
     "data": {
      "text/plain": [
       "array(['가평군', '고양시 덕양구', '고양시 일산동구', '고양시 일산서구', '과천시', '광명시', '광주시',\n",
       "       '구리시', '군포시', '김포시', '남양주시', '동두천시', '부천시', '성남시 분당구', '성남시 수정구',\n",
       "       '성남시 중원구', '수원시 권선구', '수원시 영통구', '수원시 장안구', '수원시 팔달구', '시흥시',\n",
       "       '안산시 단원구', '안산시 상록구', '안성시', '안양시 동안구', '안양시 만안구', '양주시', '양평군',\n",
       "       '여주시', '연천군', '오산시', '용인시 기흥구', '용인시 수지구', '용인시 처인구', '의왕시',\n",
       "       '의정부시', '이천시', '파주시', '평택시', '포천시', '하남시', '화성시'], dtype=object)"
      ]
     },
     "execution_count": 10,
     "metadata": {},
     "output_type": "execute_result"
    }
   ],
   "source": [
    "df_category['시군구명'].unique()"
   ]
  },
  {
   "cell_type": "code",
   "execution_count": 11,
   "id": "58871c8a-f2f4-4189-a938-6e2acaa2967c",
   "metadata": {},
   "outputs": [
    {
     "data": {
      "text/plain": [
       "31"
      ]
     },
     "execution_count": 11,
     "metadata": {},
     "output_type": "execute_result"
    }
   ],
   "source": [
    "#경기 행정구역 - 시 : 28 / 군 : 3 (31) \n",
    "s_split = df_category['시군구명'].str.split(\" \", expand=True)\n",
    "len(s_split[0].unique())"
   ]
  },
  {
   "cell_type": "markdown",
   "id": "2db065ac-98e9-4da9-b90f-63ea619f98f3",
   "metadata": {},
   "source": [
    "## 데이터 전처리\n",
    "* 년월 컬럼 사용하기 위해 전처리\n",
    "* 시군구명 컬럼에서 고양시, 수원시, 용인시, 성남시, 안산시는 구별로 나눠져 있음  \n",
    "  구별로 나누지 않고 보기 위해 행정구역 컬럼 추가"
   ]
  },
  {
   "cell_type": "code",
   "execution_count": 12,
   "id": "fc5a1b6d-519a-43bb-b372-56d24091a072",
   "metadata": {},
   "outputs": [],
   "source": [
    "df_category[\"year\"] = df_category[\"년월\"].dt.year\n",
    "df_category[\"month\"] = df_category[\"년월\"].dt.month\n",
    "df_category['year_month'] = df_category[\"년월\"].dt.strftime(\"%Y-%m\")\n",
    "df_category['행정구역'] = s_split[0]"
   ]
  },
  {
   "cell_type": "code",
   "execution_count": 14,
   "id": "f3dbd328-7910-47bf-9d78-970eca264b41",
   "metadata": {},
   "outputs": [
    {
     "data": {
      "text/html": [
       "<div>\n",
       "<style scoped>\n",
       "    .dataframe tbody tr th:only-of-type {\n",
       "        vertical-align: middle;\n",
       "    }\n",
       "\n",
       "    .dataframe tbody tr th {\n",
       "        vertical-align: top;\n",
       "    }\n",
       "\n",
       "    .dataframe thead th {\n",
       "        text-align: right;\n",
       "    }\n",
       "</style>\n",
       "<table border=\"1\" class=\"dataframe\">\n",
       "  <thead>\n",
       "    <tr style=\"text-align: right;\">\n",
       "      <th></th>\n",
       "      <th>년월</th>\n",
       "      <th>시도명</th>\n",
       "      <th>시군구명</th>\n",
       "      <th>동명</th>\n",
       "      <th>가맹점업종명</th>\n",
       "      <th>총결제금액</th>\n",
       "      <th>year</th>\n",
       "      <th>month</th>\n",
       "      <th>year_month</th>\n",
       "      <th>행정구역</th>\n",
       "    </tr>\n",
       "  </thead>\n",
       "  <tbody>\n",
       "    <tr>\n",
       "      <th>0</th>\n",
       "      <td>2019-03-01</td>\n",
       "      <td>경기도</td>\n",
       "      <td>가평군</td>\n",
       "      <td>가평읍</td>\n",
       "      <td>가구</td>\n",
       "      <td>0</td>\n",
       "      <td>2019</td>\n",
       "      <td>3</td>\n",
       "      <td>2019-03</td>\n",
       "      <td>가평군</td>\n",
       "    </tr>\n",
       "    <tr>\n",
       "      <th>1</th>\n",
       "      <td>2019-03-01</td>\n",
       "      <td>경기도</td>\n",
       "      <td>가평군</td>\n",
       "      <td>가평읍</td>\n",
       "      <td>건강식품</td>\n",
       "      <td>0</td>\n",
       "      <td>2019</td>\n",
       "      <td>3</td>\n",
       "      <td>2019-03</td>\n",
       "      <td>가평군</td>\n",
       "    </tr>\n",
       "    <tr>\n",
       "      <th>2</th>\n",
       "      <td>2019-03-01</td>\n",
       "      <td>경기도</td>\n",
       "      <td>가평군</td>\n",
       "      <td>가평읍</td>\n",
       "      <td>건축자재</td>\n",
       "      <td>0</td>\n",
       "      <td>2019</td>\n",
       "      <td>3</td>\n",
       "      <td>2019-03</td>\n",
       "      <td>가평군</td>\n",
       "    </tr>\n",
       "    <tr>\n",
       "      <th>3</th>\n",
       "      <td>2019-03-01</td>\n",
       "      <td>경기도</td>\n",
       "      <td>가평군</td>\n",
       "      <td>가평읍</td>\n",
       "      <td>광학제품</td>\n",
       "      <td>0</td>\n",
       "      <td>2019</td>\n",
       "      <td>3</td>\n",
       "      <td>2019-03</td>\n",
       "      <td>가평군</td>\n",
       "    </tr>\n",
       "    <tr>\n",
       "      <th>4</th>\n",
       "      <td>2019-03-01</td>\n",
       "      <td>경기도</td>\n",
       "      <td>가평군</td>\n",
       "      <td>가평읍</td>\n",
       "      <td>기타</td>\n",
       "      <td>0</td>\n",
       "      <td>2019</td>\n",
       "      <td>3</td>\n",
       "      <td>2019-03</td>\n",
       "      <td>가평군</td>\n",
       "    </tr>\n",
       "  </tbody>\n",
       "</table>\n",
       "</div>"
      ],
      "text/plain": [
       "          년월  시도명 시군구명   동명 가맹점업종명  총결제금액  year  month year_month 행정구역\n",
       "0 2019-03-01  경기도  가평군  가평읍     가구      0  2019      3    2019-03  가평군\n",
       "1 2019-03-01  경기도  가평군  가평읍   건강식품      0  2019      3    2019-03  가평군\n",
       "2 2019-03-01  경기도  가평군  가평읍   건축자재      0  2019      3    2019-03  가평군\n",
       "3 2019-03-01  경기도  가평군  가평읍   광학제품      0  2019      3    2019-03  가평군\n",
       "4 2019-03-01  경기도  가평군  가평읍     기타      0  2019      3    2019-03  가평군"
      ]
     },
     "execution_count": 14,
     "metadata": {},
     "output_type": "execute_result"
    }
   ],
   "source": [
    "df_category.head()"
   ]
  },
  {
   "cell_type": "markdown",
   "id": "55e6310d-d51c-463b-bb08-8c2da0c86688",
   "metadata": {},
   "source": [
    "## 데이터 탐색"
   ]
  },
  {
   "cell_type": "code",
   "execution_count": 29,
   "id": "dcbf0d89-3bdf-4dc4-afa4-4de15ee86ae5",
   "metadata": {},
   "outputs": [
    {
     "data": {
      "text/plain": [
       "<AxesSubplot:xlabel='총결제금액', ylabel='가맹점업종명'>"
      ]
     },
     "execution_count": 29,
     "metadata": {},
     "output_type": "execute_result"
    },
    {
     "data": {
      "image/png": "[encoded data removed]",
      "text/plain": [
       "<Figure size 1440x576 with 1 Axes>"
      ]
     },
     "metadata": {
      "needs_background": "light"
     },
     "output_type": "display_data"
    }
   ],
   "source": [
    "#월별 결제금액 추이\n",
    "figure, ax1 = plt.subplots(nrows=1, ncols=1)\n",
    "\n",
    "figure.set_size_inches(20, 8)\n",
    "\n",
    "sns.barplot(data=df_category, x='총결제금액', y='가맹점업종명' ,ax=ax1, orient='h')"
   ]
  },
  {
   "cell_type": "code",
   "execution_count": 20,
   "id": "88f58188-9733-430e-828f-c9a8a2ae0a89",
   "metadata": {},
   "outputs": [
    {
     "data": {
      "text/plain": [
       "가맹점업종명\n",
       "일반휴게음식      24340284777\n",
       "학원           9090577283\n",
       "유통업 영리       8004311100\n",
       "음료식품         5792116980\n",
       "의원           3371838890\n",
       "보건위생         3177361148\n",
       "회원제형태        1851020744\n",
       "레저업소         1569882504\n",
       "연료판매점        1323370602\n",
       "약국           1245168836\n",
       "기타의료기관       1188902793\n",
       "유통업 비영리      1001491538\n",
       "의류            660694798\n",
       "서적문구          544030975\n",
       "자동차정비 유지      498971961\n",
       "레져용품          433677977\n",
       "가구            404557183\n",
       "병원            359241479\n",
       "문화.취미         353809839\n",
       "신변잡화          310846396\n",
       "수리서비스         258293911\n",
       "건강식품          162271435\n",
       "용역 서비스        154182229\n",
       "직물            121711224\n",
       "기타             99147309\n",
       "광학제품           89331444\n",
       "건축자재           82130139\n",
       "전기제품           39367045\n",
       "숙박업            39200910\n",
       "주방용구           34964790\n",
       "사무통신           30551728\n",
       "농업             27652852\n",
       "자동차판매           5615604\n",
       "여행              1722700\n",
       "별도관리                  0\n",
       "보험                    0\n",
       "무인판매                  0\n",
       "Name: 총결제금액, dtype: int64"
      ]
     },
     "execution_count": 20,
     "metadata": {},
     "output_type": "execute_result"
    }
   ],
   "source": [
    "month_s = df_category.groupby('가맹점업종명')\n",
    "month_s['총결제금액'].sum().sort_values(ascending=False)"
   ]
  },
  {
   "cell_type": "markdown",
   "id": "93315eed-1221-4a7f-8dd2-9b4199214128",
   "metadata": {},
   "source": [
    "## 데이터 추출"
   ]
  },
  {
   "cell_type": "code",
   "execution_count": 31,
   "id": "9718f2b9-076b-41ee-9d17-b287753f6f16",
   "metadata": {},
   "outputs": [],
   "source": [
    "df_category.to_csv('경기도_업종별_소비.csv', index = False)"
   ]
  },
  {
   "cell_type": "code",
   "execution_count": null,
   "id": "0af5d7ff-7753-4aaa-8c53-26d54992b26a",
   "metadata": {},
   "outputs": [],
   "source": []
  }
 ],
 "metadata": {
  "kernelspec": {
   "display_name": "Python 3 (ipykernel)",
   "language": "python",
   "name": "python3"
  },
  "language_info": {
   "codemirror_mode": {
    "name": "ipython",
    "version": 3
   },
   "file_extension": ".py",
   "mimetype": "text/x-python",
   "name": "python",
   "nbconvert_exporter": "python",
   "pygments_lexer": "ipython3",
   "version": "3.9.12"
  }
 },
 "nbformat": 4,
 "nbformat_minor": 5
}
