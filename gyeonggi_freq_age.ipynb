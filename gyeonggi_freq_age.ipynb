{
 "cells": [
  {
   "cell_type": "code",
   "execution_count": 1,
   "id": "8846b70e-5f99-4dba-be87-5746aa08dce8",
   "metadata": {},
   "outputs": [],
   "source": [
    "import numpy as np\n",
    "import pandas as pd\n",
    "import seaborn as sns\n",
    "import matplotlib\n",
    "import matplotlib.pyplot as plt\n",
    "%matplotlib inline\n",
    "import warnings\n",
    "warnings.filterwarnings('ignore')\n",
    "\n",
    "# plot title 한글 패치\n",
    "matplotlib.rcParams['font.family'] ='Malgun Gothic'\n",
    "matplotlib.rcParams['axes.unicode_minus'] =False"
   ]
  },
  {
   "cell_type": "code",
   "execution_count": 2,
   "id": "9718f2b9-076b-41ee-9d17-b287753f6f16",
   "metadata": {},
   "outputs": [],
   "source": [
    "df_freq_age = pd.read_csv('./연령별 지역화폐 사용 빈도 현황.csv', encoding='cp949', parse_dates=[\"년월\"])"
   ]
  },
  {
   "cell_type": "code",
   "execution_count": 3,
   "id": "8d81bfd8-f7d8-48fb-9919-91a6c1cff735",
   "metadata": {},
   "outputs": [
    {
     "data": {
      "text/plain": [
       "(2274, 6)"
      ]
     },
     "execution_count": 3,
     "metadata": {},
     "output_type": "execute_result"
    }
   ],
   "source": [
    "df_freq_age.shape"
   ]
  },
  {
   "cell_type": "code",
   "execution_count": 4,
   "id": "5cbd4a66-6a64-44f0-b02b-bb1f6b7c3c67",
   "metadata": {},
   "outputs": [
    {
     "data": {
      "text/html": [
       "<div>\n",
       "<style scoped>\n",
       "    .dataframe tbody tr th:only-of-type {\n",
       "        vertical-align: middle;\n",
       "    }\n",
       "\n",
       "    .dataframe tbody tr th {\n",
       "        vertical-align: top;\n",
       "    }\n",
       "\n",
       "    .dataframe thead th {\n",
       "        text-align: right;\n",
       "    }\n",
       "</style>\n",
       "<table border=\"1\" class=\"dataframe\">\n",
       "  <thead>\n",
       "    <tr style=\"text-align: right;\">\n",
       "      <th></th>\n",
       "      <th>년월</th>\n",
       "      <th>시도명</th>\n",
       "      <th>시군구명</th>\n",
       "      <th>연령대코드</th>\n",
       "      <th>결제상품명</th>\n",
       "      <th>사용빈도</th>\n",
       "    </tr>\n",
       "  </thead>\n",
       "  <tbody>\n",
       "    <tr>\n",
       "      <th>0</th>\n",
       "      <td>2019-03-01</td>\n",
       "      <td>경기도</td>\n",
       "      <td>양주시</td>\n",
       "      <td>40</td>\n",
       "      <td>양주사랑카드</td>\n",
       "      <td>3</td>\n",
       "    </tr>\n",
       "    <tr>\n",
       "      <th>1</th>\n",
       "      <td>2019-04-01</td>\n",
       "      <td>경기도</td>\n",
       "      <td>가평군</td>\n",
       "      <td>20</td>\n",
       "      <td>가평사랑상품권</td>\n",
       "      <td>3</td>\n",
       "    </tr>\n",
       "    <tr>\n",
       "      <th>2</th>\n",
       "      <td>2019-04-01</td>\n",
       "      <td>경기도</td>\n",
       "      <td>가평군</td>\n",
       "      <td>30</td>\n",
       "      <td>가평사랑상품권</td>\n",
       "      <td>37</td>\n",
       "    </tr>\n",
       "    <tr>\n",
       "      <th>3</th>\n",
       "      <td>2019-04-01</td>\n",
       "      <td>경기도</td>\n",
       "      <td>가평군</td>\n",
       "      <td>40</td>\n",
       "      <td>오산화폐 오색전</td>\n",
       "      <td>1</td>\n",
       "    </tr>\n",
       "    <tr>\n",
       "      <th>4</th>\n",
       "      <td>2019-04-01</td>\n",
       "      <td>경기도</td>\n",
       "      <td>가평군</td>\n",
       "      <td>40</td>\n",
       "      <td>가평사랑상품권</td>\n",
       "      <td>23</td>\n",
       "    </tr>\n",
       "  </tbody>\n",
       "</table>\n",
       "</div>"
      ],
      "text/plain": [
       "          년월  시도명 시군구명 연령대코드     결제상품명  사용빈도\n",
       "0 2019-03-01  경기도  양주시    40    양주사랑카드     3\n",
       "1 2019-04-01  경기도  가평군    20   가평사랑상품권     3\n",
       "2 2019-04-01  경기도  가평군    30   가평사랑상품권    37\n",
       "3 2019-04-01  경기도  가평군    40  오산화폐 오색전     1\n",
       "4 2019-04-01  경기도  가평군    40   가평사랑상품권    23"
      ]
     },
     "execution_count": 4,
     "metadata": {},
     "output_type": "execute_result"
    }
   ],
   "source": [
    "df_freq_age.head()"
   ]
  },
  {
   "cell_type": "code",
   "execution_count": 5,
   "id": "7a325f81-908c-4822-9d5e-2dde03b33930",
   "metadata": {},
   "outputs": [
    {
     "name": "stdout",
     "output_type": "stream",
     "text": [
      "<class 'pandas.core.frame.DataFrame'>\n",
      "RangeIndex: 2274 entries, 0 to 2273\n",
      "Data columns (total 6 columns):\n",
      " #   Column  Non-Null Count  Dtype         \n",
      "---  ------  --------------  -----         \n",
      " 0   년월      2274 non-null   datetime64[ns]\n",
      " 1   시도명     2274 non-null   object        \n",
      " 2   시군구명    2274 non-null   object        \n",
      " 3   연령대코드   2274 non-null   object        \n",
      " 4   결제상품명   2274 non-null   object        \n",
      " 5   사용빈도    2274 non-null   int64         \n",
      "dtypes: datetime64[ns](1), int64(1), object(4)\n",
      "memory usage: 106.7+ KB\n"
     ]
    }
   ],
   "source": [
    "df_freq_age.info()"
   ]
  },
  {
   "cell_type": "code",
   "execution_count": 6,
   "id": "2746cd63-762c-4f16-bd5f-614f34e8453d",
   "metadata": {},
   "outputs": [
    {
     "data": {
      "text/html": [
       "<div>\n",
       "<style scoped>\n",
       "    .dataframe tbody tr th:only-of-type {\n",
       "        vertical-align: middle;\n",
       "    }\n",
       "\n",
       "    .dataframe tbody tr th {\n",
       "        vertical-align: top;\n",
       "    }\n",
       "\n",
       "    .dataframe thead th {\n",
       "        text-align: right;\n",
       "    }\n",
       "</style>\n",
       "<table border=\"1\" class=\"dataframe\">\n",
       "  <thead>\n",
       "    <tr style=\"text-align: right;\">\n",
       "      <th></th>\n",
       "      <th>사용빈도</th>\n",
       "    </tr>\n",
       "  </thead>\n",
       "  <tbody>\n",
       "    <tr>\n",
       "      <th>count</th>\n",
       "      <td>2274.00</td>\n",
       "    </tr>\n",
       "    <tr>\n",
       "      <th>mean</th>\n",
       "      <td>1182.54</td>\n",
       "    </tr>\n",
       "    <tr>\n",
       "      <th>std</th>\n",
       "      <td>3482.97</td>\n",
       "    </tr>\n",
       "    <tr>\n",
       "      <th>min</th>\n",
       "      <td>1.00</td>\n",
       "    </tr>\n",
       "    <tr>\n",
       "      <th>25%</th>\n",
       "      <td>2.00</td>\n",
       "    </tr>\n",
       "    <tr>\n",
       "      <th>50%</th>\n",
       "      <td>38.00</td>\n",
       "    </tr>\n",
       "    <tr>\n",
       "      <th>75%</th>\n",
       "      <td>753.25</td>\n",
       "    </tr>\n",
       "    <tr>\n",
       "      <th>max</th>\n",
       "      <td>53397.00</td>\n",
       "    </tr>\n",
       "  </tbody>\n",
       "</table>\n",
       "</div>"
      ],
      "text/plain": [
       "          사용빈도\n",
       "count  2274.00\n",
       "mean   1182.54\n",
       "std    3482.97\n",
       "min       1.00\n",
       "25%       2.00\n",
       "50%      38.00\n",
       "75%     753.25\n",
       "max   53397.00"
      ]
     },
     "execution_count": 6,
     "metadata": {},
     "output_type": "execute_result"
    }
   ],
   "source": [
    "pd.set_option('float_format', '{:.2f}'.format)\n",
    "df_freq_age.describe()"
   ]
  },
  {
   "cell_type": "code",
   "execution_count": 38,
   "id": "f4f6cf07-72c6-4171-b140-9fe88ee1727e",
   "metadata": {},
   "outputs": [
    {
     "data": {
      "text/plain": [
       "년월            0\n",
       "시도명           0\n",
       "시군구명          0\n",
       "연령대코드         0\n",
       "결제상품명         0\n",
       "사용빈도          0\n",
       "year          0\n",
       "month         0\n",
       "year_month    0\n",
       "행정구역          0\n",
       "dtype: int64"
      ]
     },
     "execution_count": 38,
     "metadata": {},
     "output_type": "execute_result"
    }
   ],
   "source": [
    "# 결측치 확인\n",
    "df_freq_age.isnull().sum()"
   ]
  },
  {
   "cell_type": "code",
   "execution_count": 7,
   "id": "bb87cd3e-a6a2-4bb8-a463-b617201dbee1",
   "metadata": {},
   "outputs": [
    {
     "data": {
      "text/plain": [
       "array(['양주시', '가평군', '고양시 덕양구', '고양시 일산동구', '고양시 일산서구', '과천시', '광명시',\n",
       "       '광주시', '구리시', '군포시', '남양주시', '동두천시', '부천시', '성남시 분당구', '성남시 수정구',\n",
       "       '성남시 중원구', '수원시 권선구', '수원시 영통구', '수원시 장안구', '수원시 팔달구', '시흥시',\n",
       "       '안산시 단원구', '안산시 상록구', '안성시', '안양시 동안구', '양평군', '여주시', '오산시',\n",
       "       '용인시 기흥구', '용인시 수지구', '용인시 처인구', '의왕시', '의정부시', '이천시', '파주시',\n",
       "       '평택시', '포천시', '하남시', '화성시', '연천군', '안양시 만안구', '김포시'], dtype=object)"
      ]
     },
     "execution_count": 7,
     "metadata": {},
     "output_type": "execute_result"
    }
   ],
   "source": [
    "df_freq_age['시군구명'].unique()"
   ]
  },
  {
   "cell_type": "code",
   "execution_count": 8,
   "id": "be9371cf-e77e-43b0-8f6e-11a2558f6732",
   "metadata": {},
   "outputs": [
    {
     "data": {
      "text/plain": [
       "31"
      ]
     },
     "execution_count": 8,
     "metadata": {},
     "output_type": "execute_result"
    }
   ],
   "source": [
    "#경기 행정구역 - 시 : 28 / 군 : 3 (31) \n",
    "s_split1 = df_freq_age['시군구명'].str.split(\" \", expand=True)\n",
    "len(s_split1[0].unique())"
   ]
  },
  {
   "cell_type": "code",
   "execution_count": 9,
   "id": "36bcaa5c-3700-408e-b624-a3eff3d733d1",
   "metadata": {},
   "outputs": [],
   "source": [
    "df_freq_age[\"year\"] = df_freq_age[\"년월\"].dt.year\n",
    "df_freq_age[\"month\"] = df_freq_age[\"년월\"].dt.month\n",
    "df_freq_age['year_month'] = df_freq_age[\"년월\"].dt.strftime(\"%Y-%m\")\n",
    "df_freq_age['행정구역'] = s_split1[0]"
   ]
  },
  {
   "cell_type": "code",
   "execution_count": 10,
   "id": "5d95fbcb-a44d-413f-848a-464639313ec3",
   "metadata": {},
   "outputs": [
    {
     "data": {
      "text/html": [
       "<div>\n",
       "<style scoped>\n",
       "    .dataframe tbody tr th:only-of-type {\n",
       "        vertical-align: middle;\n",
       "    }\n",
       "\n",
       "    .dataframe tbody tr th {\n",
       "        vertical-align: top;\n",
       "    }\n",
       "\n",
       "    .dataframe thead th {\n",
       "        text-align: right;\n",
       "    }\n",
       "</style>\n",
       "<table border=\"1\" class=\"dataframe\">\n",
       "  <thead>\n",
       "    <tr style=\"text-align: right;\">\n",
       "      <th></th>\n",
       "      <th>년월</th>\n",
       "      <th>시도명</th>\n",
       "      <th>시군구명</th>\n",
       "      <th>연령대코드</th>\n",
       "      <th>결제상품명</th>\n",
       "      <th>사용빈도</th>\n",
       "      <th>year</th>\n",
       "      <th>month</th>\n",
       "      <th>year_month</th>\n",
       "      <th>행정구역</th>\n",
       "    </tr>\n",
       "  </thead>\n",
       "  <tbody>\n",
       "    <tr>\n",
       "      <th>2269</th>\n",
       "      <td>2019-09-01</td>\n",
       "      <td>경기도</td>\n",
       "      <td>화성시</td>\n",
       "      <td>50</td>\n",
       "      <td>행복화성지역화폐</td>\n",
       "      <td>7051</td>\n",
       "      <td>2019</td>\n",
       "      <td>9</td>\n",
       "      <td>2019-09</td>\n",
       "      <td>화성시</td>\n",
       "    </tr>\n",
       "    <tr>\n",
       "      <th>2270</th>\n",
       "      <td>2019-09-01</td>\n",
       "      <td>경기도</td>\n",
       "      <td>화성시</td>\n",
       "      <td>60</td>\n",
       "      <td>행복화성지역화폐</td>\n",
       "      <td>1323</td>\n",
       "      <td>2019</td>\n",
       "      <td>9</td>\n",
       "      <td>2019-09</td>\n",
       "      <td>화성시</td>\n",
       "    </tr>\n",
       "    <tr>\n",
       "      <th>2271</th>\n",
       "      <td>2019-09-01</td>\n",
       "      <td>경기도</td>\n",
       "      <td>화성시</td>\n",
       "      <td>60</td>\n",
       "      <td>행복화성지역화폐_화이트</td>\n",
       "      <td>1</td>\n",
       "      <td>2019</td>\n",
       "      <td>9</td>\n",
       "      <td>2019-09</td>\n",
       "      <td>화성시</td>\n",
       "    </tr>\n",
       "    <tr>\n",
       "      <th>2272</th>\n",
       "      <td>2019-09-01</td>\n",
       "      <td>경기도</td>\n",
       "      <td>화성시</td>\n",
       "      <td>70</td>\n",
       "      <td>행복화성지역화폐</td>\n",
       "      <td>157</td>\n",
       "      <td>2019</td>\n",
       "      <td>9</td>\n",
       "      <td>2019-09</td>\n",
       "      <td>화성시</td>\n",
       "    </tr>\n",
       "    <tr>\n",
       "      <th>2273</th>\n",
       "      <td>2019-09-01</td>\n",
       "      <td>경기도</td>\n",
       "      <td>화성시</td>\n",
       "      <td>80</td>\n",
       "      <td>행복화성지역화폐</td>\n",
       "      <td>38</td>\n",
       "      <td>2019</td>\n",
       "      <td>9</td>\n",
       "      <td>2019-09</td>\n",
       "      <td>화성시</td>\n",
       "    </tr>\n",
       "  </tbody>\n",
       "</table>\n",
       "</div>"
      ],
      "text/plain": [
       "             년월  시도명 시군구명 연령대코드         결제상품명  사용빈도  year  month year_month  \\\n",
       "2269 2019-09-01  경기도  화성시    50      행복화성지역화폐  7051  2019      9    2019-09   \n",
       "2270 2019-09-01  경기도  화성시    60      행복화성지역화폐  1323  2019      9    2019-09   \n",
       "2271 2019-09-01  경기도  화성시    60  행복화성지역화폐_화이트     1  2019      9    2019-09   \n",
       "2272 2019-09-01  경기도  화성시    70      행복화성지역화폐   157  2019      9    2019-09   \n",
       "2273 2019-09-01  경기도  화성시    80      행복화성지역화폐    38  2019      9    2019-09   \n",
       "\n",
       "     행정구역  \n",
       "2269  화성시  \n",
       "2270  화성시  \n",
       "2271  화성시  \n",
       "2272  화성시  \n",
       "2273  화성시  "
      ]
     },
     "execution_count": 10,
     "metadata": {},
     "output_type": "execute_result"
    }
   ],
   "source": [
    "df_freq_age.tail()"
   ]
  },
  {
   "cell_type": "code",
   "execution_count": 33,
   "id": "7bbbe021-3fb4-4976-b701-a40cd4b2db09",
   "metadata": {},
   "outputs": [
    {
     "data": {
      "text/plain": [
       "<AxesSubplot:xlabel='연령대코드', ylabel='사용빈도'>"
      ]
     },
     "execution_count": 33,
     "metadata": {},
     "output_type": "execute_result"
    },
    {
     "data": {
      "image/png": "[encoded data removed]",
      "text/plain": [
       "<Figure size 1296x288 with 2 Axes>"
      ]
     },
     "metadata": {
      "needs_background": "light"
     },
     "output_type": "display_data"
    }
   ],
   "source": [
    "figure, (ax1, ax2) = plt.subplots(nrows=1, ncols=2)\n",
    "\n",
    "figure.set_size_inches(18, 4)\n",
    "\n",
    "sns.barplot(data=df_freq_age, x='year_month', y='사용빈도' ,ax=ax1)\n",
    "sns.barplot(data=df_freq_age, x='연령대코드', y='사용빈도' ,ax=ax2, order = df_freq_age['연령대코드'].value_counts().index)"
   ]
  },
  {
   "cell_type": "code",
   "execution_count": 36,
   "id": "b0377cd6-de42-41f9-a3a4-c9dd445da4f7",
   "metadata": {},
   "outputs": [
    {
     "data": {
      "text/plain": [
       "month\n",
       "9    908941\n",
       "7    590286\n",
       "8    558393\n",
       "6    384606\n",
       "5    196368\n",
       "4     50490\n",
       "3         3\n",
       "Name: 사용빈도, dtype: int64"
      ]
     },
     "execution_count": 36,
     "metadata": {},
     "output_type": "execute_result"
    }
   ],
   "source": [
    "month_s = df_freq_age.groupby('month')\n",
    "month_s['사용빈도'].sum().sort_values(ascending=False)"
   ]
  },
  {
   "cell_type": "code",
   "execution_count": 39,
   "id": "5b48a86c-e819-44c2-973a-e1d8f01763fe",
   "metadata": {},
   "outputs": [],
   "source": [
    "df_freq_age.to_csv('경기도_연령별_사용빈도.csv', index = False)"
   ]
  },
  {
   "cell_type": "code",
   "execution_count": null,
   "id": "55a28adb-5c02-48fe-b13c-f3989a650a21",
   "metadata": {},
   "outputs": [],
   "source": []
  }
 ],
 "metadata": {
  "kernelspec": {
   "display_name": "Python 3 (ipykernel)",
   "language": "python",
   "name": "python3"
  },
  "language_info": {
   "codemirror_mode": {
    "name": "ipython",
    "version": 3
   },
   "file_extension": ".py",
   "mimetype": "text/x-python",
   "name": "python",
   "nbconvert_exporter": "python",
   "pygments_lexer": "ipython3",
   "version": "3.9.12"
  }
 },
 "nbformat": 4,
 "nbformat_minor": 5
}
