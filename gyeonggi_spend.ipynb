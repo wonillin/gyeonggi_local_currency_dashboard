{
 "cells": [
  {
   "cell_type": "code",
   "execution_count": 2,
   "id": "8846b70e-5f99-4dba-be87-5746aa08dce8",
   "metadata": {},
   "outputs": [],
   "source": [
    "import numpy as np\n",
    "import pandas as pd\n",
    "import seaborn as sns\n",
    "import matplotlib\n",
    "import matplotlib.pyplot as plt\n",
    "%matplotlib inline\n",
    "import warnings\n",
    "warnings.filterwarnings('ignore')\n",
    "\n",
    "# plot title 한글 패치\n",
    "matplotlib.rcParams['font.family'] ='Malgun Gothic'\n",
    "matplotlib.rcParams['axes.unicode_minus'] =False"
   ]
  },
  {
   "cell_type": "code",
   "execution_count": 3,
   "id": "99095e7d-678b-4598-9865-efc504eedd6e",
   "metadata": {},
   "outputs": [],
   "source": [
    "df_spend = pd.read_csv('./2019년 경기도 시군구 남녀별 월 단위 소비패턴 현황.csv', parse_dates=[\"년월\"])"
   ]
  },
  {
   "cell_type": "code",
   "execution_count": 4,
   "id": "6d64c6dc-c06b-48ab-ae9e-7d9e437e4b3a",
   "metadata": {},
   "outputs": [
    {
     "data": {
      "text/plain": [
       "(9813, 6)"
      ]
     },
     "execution_count": 4,
     "metadata": {},
     "output_type": "execute_result"
    }
   ],
   "source": [
    "df_spend.shape"
   ]
  },
  {
   "cell_type": "code",
   "execution_count": 5,
   "id": "14dedb22-389e-41ba-8541-0f500154e227",
   "metadata": {},
   "outputs": [
    {
     "data": {
      "text/html": [
       "<div>\n",
       "<style scoped>\n",
       "    .dataframe tbody tr th:only-of-type {\n",
       "        vertical-align: middle;\n",
       "    }\n",
       "\n",
       "    .dataframe tbody tr th {\n",
       "        vertical-align: top;\n",
       "    }\n",
       "\n",
       "    .dataframe thead th {\n",
       "        text-align: right;\n",
       "    }\n",
       "</style>\n",
       "<table border=\"1\" class=\"dataframe\">\n",
       "  <thead>\n",
       "    <tr style=\"text-align: right;\">\n",
       "      <th></th>\n",
       "      <th>년월</th>\n",
       "      <th>시도명</th>\n",
       "      <th>시군구명</th>\n",
       "      <th>성별코드</th>\n",
       "      <th>가맹점업종명</th>\n",
       "      <th>총결제금액</th>\n",
       "    </tr>\n",
       "  </thead>\n",
       "  <tbody>\n",
       "    <tr>\n",
       "      <th>0</th>\n",
       "      <td>2019-03-01</td>\n",
       "      <td>경기도</td>\n",
       "      <td>양주시</td>\n",
       "      <td>F</td>\n",
       "      <td>유통업 영리</td>\n",
       "      <td>7600</td>\n",
       "    </tr>\n",
       "    <tr>\n",
       "      <th>1</th>\n",
       "      <td>2019-03-01</td>\n",
       "      <td>경기도</td>\n",
       "      <td>양주시</td>\n",
       "      <td>F</td>\n",
       "      <td>일반휴게음식</td>\n",
       "      <td>26200</td>\n",
       "    </tr>\n",
       "    <tr>\n",
       "      <th>2</th>\n",
       "      <td>2019-04-01</td>\n",
       "      <td>경기도</td>\n",
       "      <td>가평군</td>\n",
       "      <td>F</td>\n",
       "      <td>회원제형태</td>\n",
       "      <td>10000</td>\n",
       "    </tr>\n",
       "    <tr>\n",
       "      <th>3</th>\n",
       "      <td>2019-04-01</td>\n",
       "      <td>경기도</td>\n",
       "      <td>가평군</td>\n",
       "      <td>F</td>\n",
       "      <td>기타</td>\n",
       "      <td>10450</td>\n",
       "    </tr>\n",
       "    <tr>\n",
       "      <th>4</th>\n",
       "      <td>2019-04-01</td>\n",
       "      <td>경기도</td>\n",
       "      <td>가평군</td>\n",
       "      <td>F</td>\n",
       "      <td>신변잡화</td>\n",
       "      <td>45500</td>\n",
       "    </tr>\n",
       "  </tbody>\n",
       "</table>\n",
       "</div>"
      ],
      "text/plain": [
       "          년월  시도명 시군구명 성별코드  가맹점업종명  총결제금액\n",
       "0 2019-03-01  경기도  양주시    F  유통업 영리   7600\n",
       "1 2019-03-01  경기도  양주시    F  일반휴게음식  26200\n",
       "2 2019-04-01  경기도  가평군    F   회원제형태  10000\n",
       "3 2019-04-01  경기도  가평군    F      기타  10450\n",
       "4 2019-04-01  경기도  가평군    F    신변잡화  45500"
      ]
     },
     "execution_count": 5,
     "metadata": {},
     "output_type": "execute_result"
    }
   ],
   "source": [
    "df_spend.head()"
   ]
  },
  {
   "cell_type": "code",
   "execution_count": 6,
   "id": "378a444b-abce-4f17-ae7e-8ee4c47a72f1",
   "metadata": {},
   "outputs": [
    {
     "name": "stdout",
     "output_type": "stream",
     "text": [
      "<class 'pandas.core.frame.DataFrame'>\n",
      "RangeIndex: 9813 entries, 0 to 9812\n",
      "Data columns (total 6 columns):\n",
      " #   Column  Non-Null Count  Dtype         \n",
      "---  ------  --------------  -----         \n",
      " 0   년월      9813 non-null   datetime64[ns]\n",
      " 1   시도명     9813 non-null   object        \n",
      " 2   시군구명    9813 non-null   object        \n",
      " 3   성별코드    9813 non-null   object        \n",
      " 4   가맹점업종명  9813 non-null   object        \n",
      " 5   총결제금액   9813 non-null   int64         \n",
      "dtypes: datetime64[ns](1), int64(1), object(4)\n",
      "memory usage: 460.1+ KB\n"
     ]
    }
   ],
   "source": [
    "df_spend.info()"
   ]
  },
  {
   "cell_type": "code",
   "execution_count": 7,
   "id": "015d3337-25c2-4ec1-a45f-2329de34bcdb",
   "metadata": {},
   "outputs": [
    {
     "data": {
      "text/html": [
       "<div>\n",
       "<style scoped>\n",
       "    .dataframe tbody tr th:only-of-type {\n",
       "        vertical-align: middle;\n",
       "    }\n",
       "\n",
       "    .dataframe tbody tr th {\n",
       "        vertical-align: top;\n",
       "    }\n",
       "\n",
       "    .dataframe thead th {\n",
       "        text-align: right;\n",
       "    }\n",
       "</style>\n",
       "<table border=\"1\" class=\"dataframe\">\n",
       "  <thead>\n",
       "    <tr style=\"text-align: right;\">\n",
       "      <th></th>\n",
       "      <th>총결제금액</th>\n",
       "    </tr>\n",
       "  </thead>\n",
       "  <tbody>\n",
       "    <tr>\n",
       "      <th>count</th>\n",
       "      <td>9813.00</td>\n",
       "    </tr>\n",
       "    <tr>\n",
       "      <th>mean</th>\n",
       "      <td>6775770.10</td>\n",
       "    </tr>\n",
       "    <tr>\n",
       "      <th>std</th>\n",
       "      <td>24714484.67</td>\n",
       "    </tr>\n",
       "    <tr>\n",
       "      <th>min</th>\n",
       "      <td>10.00</td>\n",
       "    </tr>\n",
       "    <tr>\n",
       "      <th>25%</th>\n",
       "      <td>126000.00</td>\n",
       "    </tr>\n",
       "    <tr>\n",
       "      <th>50%</th>\n",
       "      <td>650000.00</td>\n",
       "    </tr>\n",
       "    <tr>\n",
       "      <th>75%</th>\n",
       "      <td>3203540.00</td>\n",
       "    </tr>\n",
       "    <tr>\n",
       "      <th>max</th>\n",
       "      <td>635011033.00</td>\n",
       "    </tr>\n",
       "  </tbody>\n",
       "</table>\n",
       "</div>"
      ],
      "text/plain": [
       "             총결제금액\n",
       "count      9813.00\n",
       "mean    6775770.10\n",
       "std    24714484.67\n",
       "min          10.00\n",
       "25%      126000.00\n",
       "50%      650000.00\n",
       "75%     3203540.00\n",
       "max   635011033.00"
      ]
     },
     "execution_count": 7,
     "metadata": {},
     "output_type": "execute_result"
    }
   ],
   "source": [
    "pd.set_option('float_format', '{:.2f}'.format)\n",
    "df_spend.describe()"
   ]
  },
  {
   "cell_type": "code",
   "execution_count": 8,
   "id": "28891d02-9cd1-4e90-9708-acf92c40114f",
   "metadata": {},
   "outputs": [
    {
     "data": {
      "text/plain": [
       "년월        0\n",
       "시도명       0\n",
       "시군구명      0\n",
       "성별코드      0\n",
       "가맹점업종명    0\n",
       "총결제금액     0\n",
       "dtype: int64"
      ]
     },
     "execution_count": 8,
     "metadata": {},
     "output_type": "execute_result"
    }
   ],
   "source": [
    "# 결측치 확인\n",
    "df_spend.isnull().sum()"
   ]
  },
  {
   "cell_type": "code",
   "execution_count": 9,
   "id": "1f0e1b5c-ddc2-4fc3-83dc-8b5500f4e57b",
   "metadata": {},
   "outputs": [
    {
     "data": {
      "text/plain": [
       "array(['양주시', '가평군', '고양시 덕양구', '고양시 일산동구', '고양시 일산서구', '과천시', '광명시',\n",
       "       '광주시', '구리시', '군포시', '남양주시', '동두천시', '부천시', '성남시 분당구', '성남시 수정구',\n",
       "       '성남시 중원구', '수원시 권선구', '수원시 영통구', '수원시 장안구', '수원시 팔달구', '시흥시',\n",
       "       '안산시 단원구', '안산시 상록구', '안성시', '안양시 동안구', '양평군', '여주시', '오산시',\n",
       "       '용인시 기흥구', '용인시 수지구', '용인시 처인구', '의왕시', '의정부시', '이천시', '파주시',\n",
       "       '평택시', '포천시', '하남시', '화성시', '연천군', '안양시 만안구', '김포시'], dtype=object)"
      ]
     },
     "execution_count": 9,
     "metadata": {},
     "output_type": "execute_result"
    }
   ],
   "source": [
    "df_spend['시군구명'].unique()"
   ]
  },
  {
   "cell_type": "code",
   "execution_count": 10,
   "id": "58871c8a-f2f4-4189-a938-6e2acaa2967c",
   "metadata": {},
   "outputs": [
    {
     "data": {
      "text/plain": [
       "31"
      ]
     },
     "execution_count": 10,
     "metadata": {},
     "output_type": "execute_result"
    }
   ],
   "source": [
    "#경기 행정구역 - 시 : 28 / 군 : 3 (31) \n",
    "s_split = df_spend['시군구명'].str.split(\" \", expand=True)\n",
    "len(s_split[0].unique())"
   ]
  },
  {
   "cell_type": "markdown",
   "id": "2db065ac-98e9-4da9-b90f-63ea619f98f3",
   "metadata": {},
   "source": [
    "## 데이터 전처리\n",
    "* 년월 컬럼 사용하기 위해 전처리\n",
    "* 시군구명 컬럼에서 고양시, 수원시, 용인시, 성남시, 안산시는 구별로 나눠져 있음  \n",
    "  구별로 나누지 않고 보기 위해 행정구역 컬럼 추가"
   ]
  },
  {
   "cell_type": "code",
   "execution_count": 11,
   "id": "fc5a1b6d-519a-43bb-b372-56d24091a072",
   "metadata": {},
   "outputs": [],
   "source": [
    "df_spend[\"year\"] = df_spend[\"년월\"].dt.year\n",
    "df_spend[\"month\"] = df_spend[\"년월\"].dt.month\n",
    "df_spend['year_month'] = df_spend[\"년월\"].dt.strftime(\"%Y-%m\")\n",
    "df_spend['행정구역'] = s_split[0]"
   ]
  },
  {
   "cell_type": "code",
   "execution_count": 12,
   "id": "f3dbd328-7910-47bf-9d78-970eca264b41",
   "metadata": {},
   "outputs": [
    {
     "data": {
      "text/html": [
       "<div>\n",
       "<style scoped>\n",
       "    .dataframe tbody tr th:only-of-type {\n",
       "        vertical-align: middle;\n",
       "    }\n",
       "\n",
       "    .dataframe tbody tr th {\n",
       "        vertical-align: top;\n",
       "    }\n",
       "\n",
       "    .dataframe thead th {\n",
       "        text-align: right;\n",
       "    }\n",
       "</style>\n",
       "<table border=\"1\" class=\"dataframe\">\n",
       "  <thead>\n",
       "    <tr style=\"text-align: right;\">\n",
       "      <th></th>\n",
       "      <th>년월</th>\n",
       "      <th>시도명</th>\n",
       "      <th>시군구명</th>\n",
       "      <th>성별코드</th>\n",
       "      <th>가맹점업종명</th>\n",
       "      <th>총결제금액</th>\n",
       "      <th>year</th>\n",
       "      <th>month</th>\n",
       "      <th>year_month</th>\n",
       "      <th>행정구역</th>\n",
       "    </tr>\n",
       "  </thead>\n",
       "  <tbody>\n",
       "    <tr>\n",
       "      <th>0</th>\n",
       "      <td>2019-03-01</td>\n",
       "      <td>경기도</td>\n",
       "      <td>양주시</td>\n",
       "      <td>F</td>\n",
       "      <td>유통업 영리</td>\n",
       "      <td>7600</td>\n",
       "      <td>2019</td>\n",
       "      <td>3</td>\n",
       "      <td>2019-03</td>\n",
       "      <td>양주시</td>\n",
       "    </tr>\n",
       "    <tr>\n",
       "      <th>1</th>\n",
       "      <td>2019-03-01</td>\n",
       "      <td>경기도</td>\n",
       "      <td>양주시</td>\n",
       "      <td>F</td>\n",
       "      <td>일반휴게음식</td>\n",
       "      <td>26200</td>\n",
       "      <td>2019</td>\n",
       "      <td>3</td>\n",
       "      <td>2019-03</td>\n",
       "      <td>양주시</td>\n",
       "    </tr>\n",
       "    <tr>\n",
       "      <th>2</th>\n",
       "      <td>2019-04-01</td>\n",
       "      <td>경기도</td>\n",
       "      <td>가평군</td>\n",
       "      <td>F</td>\n",
       "      <td>회원제형태</td>\n",
       "      <td>10000</td>\n",
       "      <td>2019</td>\n",
       "      <td>4</td>\n",
       "      <td>2019-04</td>\n",
       "      <td>가평군</td>\n",
       "    </tr>\n",
       "    <tr>\n",
       "      <th>3</th>\n",
       "      <td>2019-04-01</td>\n",
       "      <td>경기도</td>\n",
       "      <td>가평군</td>\n",
       "      <td>F</td>\n",
       "      <td>기타</td>\n",
       "      <td>10450</td>\n",
       "      <td>2019</td>\n",
       "      <td>4</td>\n",
       "      <td>2019-04</td>\n",
       "      <td>가평군</td>\n",
       "    </tr>\n",
       "    <tr>\n",
       "      <th>4</th>\n",
       "      <td>2019-04-01</td>\n",
       "      <td>경기도</td>\n",
       "      <td>가평군</td>\n",
       "      <td>F</td>\n",
       "      <td>신변잡화</td>\n",
       "      <td>45500</td>\n",
       "      <td>2019</td>\n",
       "      <td>4</td>\n",
       "      <td>2019-04</td>\n",
       "      <td>가평군</td>\n",
       "    </tr>\n",
       "  </tbody>\n",
       "</table>\n",
       "</div>"
      ],
      "text/plain": [
       "          년월  시도명 시군구명 성별코드  가맹점업종명  총결제금액  year  month year_month 행정구역\n",
       "0 2019-03-01  경기도  양주시    F  유통업 영리   7600  2019      3    2019-03  양주시\n",
       "1 2019-03-01  경기도  양주시    F  일반휴게음식  26200  2019      3    2019-03  양주시\n",
       "2 2019-04-01  경기도  가평군    F   회원제형태  10000  2019      4    2019-04  가평군\n",
       "3 2019-04-01  경기도  가평군    F      기타  10450  2019      4    2019-04  가평군\n",
       "4 2019-04-01  경기도  가평군    F    신변잡화  45500  2019      4    2019-04  가평군"
      ]
     },
     "execution_count": 12,
     "metadata": {},
     "output_type": "execute_result"
    }
   ],
   "source": [
    "df_spend.head()"
   ]
  },
  {
   "cell_type": "markdown",
   "id": "55e6310d-d51c-463b-bb08-8c2da0c86688",
   "metadata": {},
   "source": [
    "## 데이터 탐색"
   ]
  },
  {
   "cell_type": "code",
   "execution_count": 13,
   "id": "dcbf0d89-3bdf-4dc4-afa4-4de15ee86ae5",
   "metadata": {},
   "outputs": [
    {
     "data": {
      "text/plain": [
       "<AxesSubplot:xlabel='year_month', ylabel='총결제금액'>"
      ]
     },
     "execution_count": 13,
     "metadata": {},
     "output_type": "execute_result"
    },
    {
     "data": {
      "image/png": "[encoded data removed]",
      "text/plain": [
       "<Figure size 720x720 with 1 Axes>"
      ]
     },
     "metadata": {
      "needs_background": "light"
     },
     "output_type": "display_data"
    }
   ],
   "source": [
    "#월별 결제금액 추이\n",
    "figure, ax1 = plt.subplots(nrows=1, ncols=1)\n",
    "\n",
    "figure.set_size_inches(10, 10)\n",
    "\n",
    "sns.barplot(data=df_spend, x='year_month', y='총결제금액' ,ax=ax1)"
   ]
  },
  {
   "cell_type": "code",
   "execution_count": 14,
   "id": "88f58188-9733-430e-828f-c9a8a2ae0a89",
   "metadata": {},
   "outputs": [
    {
     "data": {
      "text/plain": [
       "month\n",
       "9    23624952959\n",
       "7    13990955896\n",
       "8    13948270161\n",
       "6     8948638680\n",
       "5     4728772054\n",
       "4     1249008461\n",
       "3          33800\n",
       "Name: 총결제금액, dtype: int64"
      ]
     },
     "execution_count": 14,
     "metadata": {},
     "output_type": "execute_result"
    }
   ],
   "source": [
    "month_s = df_spend.groupby('month')\n",
    "month_s['총결제금액'].sum().sort_values(ascending=False)"
   ]
  },
  {
   "cell_type": "markdown",
   "id": "93315eed-1221-4a7f-8dd2-9b4199214128",
   "metadata": {},
   "source": [
    "## 데이터 추출"
   ]
  },
  {
   "cell_type": "code",
   "execution_count": 15,
   "id": "9718f2b9-076b-41ee-9d17-b287753f6f16",
   "metadata": {},
   "outputs": [],
   "source": [
    "df_spend.to_csv('경기도_남녀별_소비.csv', index = False)"
   ]
  },
  {
   "cell_type": "code",
   "execution_count": null,
   "id": "74990514-a760-426c-a952-80d96b6bb322",
   "metadata": {},
   "outputs": [],
   "source": []
  }
 ],
 "metadata": {
  "kernelspec": {
   "display_name": "Python 3 (ipykernel)",
   "language": "python",
   "name": "python3"
  },
  "language_info": {
   "codemirror_mode": {
    "name": "ipython",
    "version": 3
   },
   "file_extension": ".py",
   "mimetype": "text/x-python",
   "name": "python",
   "nbconvert_exporter": "python",
   "pygments_lexer": "ipython3",
   "version": "3.9.12"
  }
 },
 "nbformat": 4,
 "nbformat_minor": 5
}
